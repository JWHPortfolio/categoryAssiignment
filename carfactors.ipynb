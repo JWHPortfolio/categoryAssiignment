{
 "cells": [
  {
   "cell_type": "markdown",
   "id": "165efd06",
   "metadata": {},
   "source": [
    "## Categorical Web service to determine number of days to sell a car given certain features.  Used text features require changing into numbers.  "
   ]
  },
  {
   "cell_type": "code",
   "execution_count": null,
   "id": "0770b586",
   "metadata": {},
   "outputs": [],
   "source": [
    "from carsfactors import carsfactors\n",
    "cf = carsfactors()"
   ]
  },
  {
   "cell_type": "markdown",
   "id": "eb856994",
   "metadata": {},
   "source": [
    "### Test Model first - Get stats"
   ]
  },
  {
   "cell_type": "code",
   "execution_count": null,
   "id": "98ed747b",
   "metadata": {},
   "outputs": [],
   "source": [
    "cf.model_stats()"
   ]
  },
  {
   "cell_type": "markdown",
   "id": "4b53ce2b",
   "metadata": {},
   "source": [
    "### Get Determination"
   ]
  },
  {
   "cell_type": "code",
   "execution_count": null,
   "id": "a2e3573a",
   "metadata": {},
   "outputs": [],
   "source": [
    "cf.model_infer( )"
   ]
  },
  {
   "cell_type": "markdown",
   "id": "1e60fa07",
   "metadata": {},
   "source": [
    "### Start up the service"
   ]
  },
  {
   "cell_type": "code",
   "execution_count": null,
   "id": "a016bc76",
   "metadata": {},
   "outputs": [],
   "source": [
    "!python carfactors_service.py"
   ]
  },
  {
   "cell_type": "markdown",
   "id": "a0cd41ac",
   "metadata": {},
   "source": [
    "Try out the links \n",
    "* [stats](http://fillin)\n",
    "* [determination](http://fillin)"
   ]
  },
  {
   "cell_type": "markdown",
   "id": "4e923687",
   "metadata": {},
   "source": [
    "### You must kill the kernel to try again for the port stays locked to the current kernel"
   ]
  },
  {
   "cell_type": "code",
   "execution_count": null,
   "id": "6fd973d7",
   "metadata": {},
   "outputs": [],
   "source": []
  }
 ],
 "metadata": {
  "kernelspec": {
   "display_name": "Python 3 (ipykernel)",
   "language": "python",
   "name": "python3"
  },
  "language_info": {
   "codemirror_mode": {
    "name": "ipython",
    "version": 3
   },
   "file_extension": ".py",
   "mimetype": "text/x-python",
   "name": "python",
   "nbconvert_exporter": "python",
   "pygments_lexer": "ipython3",
   "version": "3.10.6"
  }
 },
 "nbformat": 4,
 "nbformat_minor": 5
}

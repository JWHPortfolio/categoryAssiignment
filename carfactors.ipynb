{
 "cells": [
  {
   "cell_type": "markdown",
   "id": "ac820ba6",
   "metadata": {},
   "source": [
    "## Categorical Web service to determine number of days to sell a car given certain features using logistic regression.  \n",
    "* Use the cars.csv for data\n",
    "* Initially use the following 6 features only -  **transmision**, **color**, odometer_value,  year_produced, **body_type**, & prices_usd\n",
    "* The bold features require conversion to numbers for they are text categories\n",
    "* The label or Y value is duration_listed - this is what the model is trying to predict"
   ]
  },
  {
   "cell_type": "markdown",
   "id": "b2692fb5",
   "metadata": {},
   "source": [
    "## Assignment \n",
    "1. Populate the carfactors.py following the hints in the comments\n",
    "1. Integrate with carfactors_service\n",
    "1. Test locally\n",
    "1. Build requirements.txt and Dockerfile\n",
    "1. Build a docker image\n",
    "1. Test Locally\n",
    "1. Push to docker hub\n",
    "1. Populate readme for both github and docker hub (with example docker commands)\n",
    "1. Populate this notebook with working output and a summary that contains an impression of the model and how to improve it.\n",
    "* Check the rubric in canvas to make sure you understand the requirements and the assocated weights for your grade"
   ]
  },
  {
   "cell_type": "code",
   "execution_count": null,
   "id": "29352672",
   "metadata": {},
   "outputs": [],
   "source": [
    "from carsfactors import carsfactors\n",
    "cf = carsfactors()"
   ]
  },
  {
   "cell_type": "markdown",
   "id": "04256c66",
   "metadata": {},
   "source": [
    "### Test Model first - Get stats"
   ]
  },
  {
   "cell_type": "code",
   "execution_count": null,
   "id": "afa8164d",
   "metadata": {},
   "outputs": [],
   "source": [
    "cf.model_stats()"
   ]
  },
  {
   "cell_type": "markdown",
   "id": "78e7389f",
   "metadata": {},
   "source": [
    "### Get Determination"
   ]
  },
  {
   "cell_type": "code",
   "execution_count": null,
   "id": "19c6ebc6",
   "metadata": {},
   "outputs": [],
   "source": [
    "cf.model_infer( )"
   ]
  },
  {
   "cell_type": "markdown",
   "id": "1014703b",
   "metadata": {},
   "source": [
    "### Start up the service"
   ]
  },
  {
   "cell_type": "code",
   "execution_count": null,
   "id": "b0ecfe1b",
   "metadata": {},
   "outputs": [],
   "source": [
    "!python carfactors_service.py"
   ]
  },
  {
   "cell_type": "markdown",
   "id": "1c83c4e7",
   "metadata": {},
   "source": [
    "Try out the links \n",
    "* [stats](http://fillin)\n",
    "* [determination](http://fillin)"
   ]
  },
  {
   "cell_type": "markdown",
   "id": "e9f43bd2",
   "metadata": {},
   "source": [
    "### You must kill the kernel to try again for the port stays locked to the current kernel"
   ]
  },
  {
   "cell_type": "markdown",
   "id": "7f0ab909",
   "metadata": {},
   "source": [
    "# Summary\n",
    "* Assignment and Model Results\n",
    "* Techniques to improve the results"
   ]
  },
  {
   "cell_type": "markdown",
   "id": "82e6b5ed",
   "metadata": {},
   "source": [
    "PUT YOUR ANSWERS HERE which could include additional cells with working code examples"
   ]
  },
  {
   "cell_type": "code",
   "execution_count": null,
   "id": "e81b3b31",
   "metadata": {},
   "outputs": [],
   "source": []
  }
 ],
 "metadata": {
  "kernelspec": {
   "display_name": "Python 3 (ipykernel)",
   "language": "python",
   "name": "python3"
  },
  "language_info": {
   "codemirror_mode": {
    "name": "ipython",
    "version": 3
   },
   "file_extension": ".py",
   "mimetype": "text/x-python",
   "name": "python",
   "nbconvert_exporter": "python",
   "pygments_lexer": "ipython3",
   "version": "3.10.6"
  }
 },
 "nbformat": 4,
 "nbformat_minor": 5
}
